{
  "nbformat": 4,
  "nbformat_minor": 0,
  "metadata": {
    "colab": {
      "provenance": [],
      "authorship_tag": "ABX9TyPAvs8OHrLSJQHsyAQQmh8y",
      "include_colab_link": true
    },
    "kernelspec": {
      "name": "python3",
      "display_name": "Python 3"
    },
    "language_info": {
      "name": "python"
    }
  },
  "cells": [
    {
      "cell_type": "markdown",
      "metadata": {
        "id": "view-in-github",
        "colab_type": "text"
      },
      "source": [
        "<a href=\"https://colab.research.google.com/github/Munna-Prasad-Gupta/DAA/blob/main/Sorting.ipynb\" target=\"_parent\"><img src=\"https://colab.research.google.com/assets/colab-badge.svg\" alt=\"Open In Colab\"/></a>"
      ]
    },
    {
      "cell_type": "code",
      "execution_count": null,
      "metadata": {
        "colab": {
          "base_uri": "https://localhost:8080/"
        },
        "id": "Yo5ZPhKRAwr_",
        "outputId": "946a940e-4c62-4aa1-e74a-f9b929349675"
      },
      "outputs": [
        {
          "output_type": "stream",
          "name": "stdout",
          "text": [
            "[1, 2, 5, 6, 7, 7, 9, 10, 15]\n"
          ]
        }
      ],
      "source": [
        "#Quick Sort\n",
        "# o(n2)\n",
        "# average and best is nlogn\n",
        "\n",
        "def QuickSort(arr,lb,ub):\n",
        "  if lb < ub:\n",
        "    loc = Partition(arr,lb,ub)\n",
        "    QuickSort(arr,lb,loc-1)\n",
        "    QuickSort(arr,loc+1,ub)\n",
        "\n",
        "  return arr\n",
        "\n",
        "def Partition(arr,lb,ub):\n",
        "  pivot = arr[lb]\n",
        "  start = lb\n",
        "  end = ub\n",
        "\n",
        "  while start < end:\n",
        "    while start < len(arr) and arr[start] <= pivot:\n",
        "      start += 1\n",
        "    while arr[end] > pivot:\n",
        "      end -= 1\n",
        "    if start < end:\n",
        "      arr[start],arr[end] = arr[end],arr[start]\n",
        "\n",
        "  arr[lb],arr[end] = arr[end],arr[lb]\n",
        "  return end\n",
        "\n",
        "\n",
        "\n",
        "arr =[7,6,10,5,9,2,1,15,7]\n",
        "\n",
        "a = QuickSort(arr,0,len(arr)-1)\n",
        "print(a)"
      ]
    },
    {
      "cell_type": "code",
      "source": [
        "def MergeSort(arr, lb, ub):\n",
        "    if lb < ub:\n",
        "        mid = (lb + ub) // 2\n",
        "        MergeSort(arr, lb, mid)\n",
        "        MergeSort(arr, mid + 1, ub)\n",
        "        merge(arr, lb, mid, ub)\n",
        "    return arr\n",
        "\n",
        "def merge(arr, lb, mid, ub):\n",
        "    temp = []\n",
        "    i = lb\n",
        "    j = mid + 1\n",
        "\n",
        "    while i <= mid and j <= ub:\n",
        "        if arr[i] <= arr[j]:\n",
        "            temp.append(arr[i])\n",
        "            i += 1\n",
        "        else:\n",
        "            temp.append(arr[j])\n",
        "            j += 1\n",
        "\n",
        "    if i > mid:\n",
        "      while j <= ub:\n",
        "        temp.append(arr[j])\n",
        "        j += 1\n",
        "    else:\n",
        "        while i <= mid:\n",
        "          temp.append(arr[i])\n",
        "          i += 1\n",
        "\n",
        "    # Copying the sorted elements back to the original array\n",
        "    for k in range(lb, ub + 1):\n",
        "        arr[k] = temp[k - lb]\n",
        "\n",
        "arr = [7, 6, 10, 5, 9, 2, 1, 15, 7]\n",
        "\n",
        "a = MergeSort(arr, 0, len(arr) - 1)\n",
        "print(a)\n"
      ],
      "metadata": {
        "colab": {
          "base_uri": "https://localhost:8080/"
        },
        "id": "jcv-OoLQUtx1",
        "outputId": "b963745c-e396-49f5-fdae-f857bb51c1d3"
      },
      "execution_count": null,
      "outputs": [
        {
          "output_type": "stream",
          "name": "stdout",
          "text": [
            "[1, 2, 5, 6, 7, 7, 9, 10, 15]\n"
          ]
        }
      ]
    },
    {
      "cell_type": "code",
      "source": [
        "def HeapSort(arr, n):\n",
        "    # Build a max heap\n",
        "    for i in range(n // 2 - 1, -1, -1):\n",
        "        Heapify(arr, n, i)\n",
        "\n",
        "    # One by one extract elements\n",
        "    for i in range(n - 1, 0, -1):\n",
        "        arr[0], arr[i] = arr[i], arr[0]  # Swap\n",
        "        Heapify(arr, i, 0)  # Heapify the root element to get the largest at root again\n",
        "\n",
        "    return arr\n",
        "\n",
        "def Heapify(arr, n, i):\n",
        "    largest = i  # Initialize largest as root\n",
        "    lchild = 2 * i + 1  # Left child index\n",
        "    rchild = 2 * i + 2  # Right child index\n",
        "\n",
        "    # See if left child of root exists and is greater than root\n",
        "    if lchild < n and arr[lchild] > arr[largest]:\n",
        "        largest = lchild\n",
        "\n",
        "    # See if right child of root exists and is greater than the current largest\n",
        "    if rchild < n and arr[rchild] > arr[largest]:\n",
        "        largest = rchild\n",
        "\n",
        "    # Change root, if needed\n",
        "    if largest != i:\n",
        "        arr[i], arr[largest] = arr[largest], arr[i]  # Swap\n",
        "        Heapify(arr, n, largest)  # Recursively heapify the affected sub-tree\n",
        "\n",
        "arr = [7, 6, 10, 5, 9, 2, 1, 15, 7]\n",
        "\n",
        "a = HeapSort(arr, len(arr))\n",
        "print(a)\n"
      ],
      "metadata": {
        "colab": {
          "base_uri": "https://localhost:8080/"
        },
        "id": "L-8bLFp4umWM",
        "outputId": "b7c1bf20-3212-4e93-8dcc-f1a37dcfe873"
      },
      "execution_count": 2,
      "outputs": [
        {
          "output_type": "stream",
          "name": "stdout",
          "text": [
            "[1, 2, 5, 6, 7, 7, 9, 10, 15]\n"
          ]
        }
      ]
    },
    {
      "cell_type": "code",
      "source": [
        "#Radix Sort\n",
        "\n",
        "# O(n+b) fro counting sort\n",
        "# O(d*(n+b)) for radix sort\n",
        "\n",
        "def RadixSort(arr,n):\n",
        "  maxim = max(arr)\n",
        "  pos = 1\n",
        "  while maxim // pos > 0:\n",
        "    CountingSort(arr,n,pos)\n",
        "    pos *= 10\n",
        "\n",
        "def CountingSort(arr,n,pos):\n",
        "    count =[0] *10\n",
        "    for i in range(0,n):\n",
        "      count[(arr[i] // pos) % 10] += 1\n",
        "\n",
        "    for i in range(1,10):\n",
        "      count[i] += count[i-1]\n",
        "    b = [0] * n\n",
        "    for i in range(n-1,-1,-1):\n",
        "      b[count[(arr[i]//pos) % 10] - 1] = arr[i]\n",
        "      count[(arr[i]//pos) % 10] -= 1\n",
        "    for i in range(n):\n",
        "      arr[i] = b[i]\n",
        "\n",
        "\n",
        "arr = [7, 6, 10, 5, 9, 2, 1, 15, 7]\n",
        "\n",
        "RadixSort(arr,len(arr))\n",
        "print(arr)"
      ],
      "metadata": {
        "colab": {
          "base_uri": "https://localhost:8080/"
        },
        "id": "ZWue4BDjEvBI",
        "outputId": "46cf0ef8-c1af-43c8-b136-e4fccd89ae2d"
      },
      "execution_count": 5,
      "outputs": [
        {
          "output_type": "stream",
          "name": "stdout",
          "text": [
            "[1, 2, 5, 6, 7, 7, 9, 10, 15]\n"
          ]
        }
      ]
    },
    {
      "cell_type": "code",
      "source": [
        "#insertion sort\n",
        "\n",
        "# O(n)\n",
        "\n",
        "def isort(arr,n):\n",
        "  for i in range(1,n):\n",
        "    temp = arr[i]\n",
        "    j = i-1\n",
        "    while j >= 0 and arr[j] > temp:\n",
        "      arr[j + 1] = arr[j]\n",
        "      j -= 1\n",
        "    arr[j+1] = temp\n",
        "  return arr\n",
        "arr = [7, 6, 10, 5, 9, 2, 1, 15, 7]\n",
        "\n",
        "a = isort(arr,len(arr))\n",
        "print(a)"
      ],
      "metadata": {
        "colab": {
          "base_uri": "https://localhost:8080/"
        },
        "id": "z3gZBis9gbPz",
        "outputId": "394cfe81-09f7-4c80-dec0-e4365ac4085d"
      },
      "execution_count": 4,
      "outputs": [
        {
          "output_type": "stream",
          "name": "stdout",
          "text": [
            "[1, 2, 5, 6, 7, 7, 9, 10, 15]\n"
          ]
        }
      ]
    },
    {
      "cell_type": "code",
      "source": [],
      "metadata": {
        "id": "I-ohXTlciZsj"
      },
      "execution_count": null,
      "outputs": []
    },
    {
      "cell_type": "code",
      "source": [
        "\n",
        "def ssort(arr, n):\n",
        "  for i in range(0,n-1):\n",
        "    min = i\n",
        "    for j in range(i+1,n):\n",
        "      if arr[j] < arr[min]:\n",
        "        min = j\n",
        "\n",
        "    if i != min:\n",
        "      arr[i],arr[min] = arr[min],arr[i]\n",
        "\n",
        "  return arr\n",
        "\n",
        "arr = [7, 6, 10, 5, 9, 2, 1, 15, 7]\n",
        "\n",
        "a = ssort(arr,len(arr))\n",
        "print(a)"
      ],
      "metadata": {
        "colab": {
          "base_uri": "https://localhost:8080/"
        },
        "id": "UygeqEDPhKdt",
        "outputId": "2a52c72b-6ee6-4d46-be51-4f7e9b12fa11"
      },
      "execution_count": 5,
      "outputs": [
        {
          "output_type": "stream",
          "name": "stdout",
          "text": [
            "[1, 2, 5, 6, 7, 7, 9, 10, 15]\n"
          ]
        }
      ]
    },
    {
      "cell_type": "code",
      "source": [
        "\n",
        "def bsort(arr,n):\n",
        "  for i in range(0,n-1):\n",
        "    for j in range(0,n-1-i):\n",
        "      if arr[j] > arr[j+1]:\n",
        "        arr[j],arr[j+1] = arr[j+1],arr[j]\n",
        "  return arr\n",
        "\n",
        "arr = [7, 6, 10, 5, 9, 2, 1, 15, 7]\n",
        "\n",
        "a = bsort(arr,len(arr))\n",
        "print(a)"
      ],
      "metadata": {
        "colab": {
          "base_uri": "https://localhost:8080/"
        },
        "id": "hae2B9t-hm4Y",
        "outputId": "404fbaf7-6380-469a-cad9-b1f4deffd84f"
      },
      "execution_count": 6,
      "outputs": [
        {
          "output_type": "stream",
          "name": "stdout",
          "text": [
            "[1, 2, 5, 6, 7, 7, 9, 10, 15]\n"
          ]
        }
      ]
    },
    {
      "cell_type": "code",
      "source": [
        "def qsort(arr,lb,ub):\n",
        "  if lb < ub:\n",
        "    loc = Partition(arr,lb,ub)\n",
        "    qsort(arr,lb,loc-1)\n",
        "    qsort(arr,loc+1,ub)\n",
        "\n",
        "  return arr\n",
        "\n",
        "def Partition(arr,lb,ub):\n",
        "  start = lb\n",
        "  end = ub\n",
        "  pivot = arr[lb]\n",
        "\n",
        "  while start < end :\n",
        "    while start < ub + 1  and arr[start] <= pivot:\n",
        "        start += 1\n",
        "    while arr[end] > pivot:\n",
        "        end -= 1\n",
        "\n",
        "    if start < end:\n",
        "      arr[start],arr[end] = arr[end],arr[start]\n",
        "\n",
        "    arr[lb],arr[end] = arr[end],arr[lb]\n",
        "\n",
        "  return end\n",
        "\n",
        "arr = [ 252,1,5,6,4,8,6,2,3]\n",
        "a = qsort(arr,0,len(arr)-1)\n",
        "print(a)"
      ],
      "metadata": {
        "colab": {
          "base_uri": "https://localhost:8080/"
        },
        "id": "Tdy3YWGKibT6",
        "outputId": "2f352627-15a2-44e7-ee5d-8782104d930f"
      },
      "execution_count": 7,
      "outputs": [
        {
          "output_type": "stream",
          "name": "stdout",
          "text": [
            "[1, 2, 3, 6, 4, 5, 6, 8, 252]\n"
          ]
        }
      ]
    },
    {
      "cell_type": "code",
      "source": [
        "def msort(arr,lb,ub):\n",
        "  if lb < ub:\n",
        "    mid = (lb + ub) // 2\n",
        "    msort(arr,lb,mid)\n",
        "    msort(arr,mid+1,ub)\n",
        "    merge(arr,lb,mid,ub)\n",
        "\n",
        "  return arr\n",
        "\n",
        "def merge(arr,lb,mid,ub):\n",
        "  i = lb\n",
        "  temp = []\n",
        "  j = mid + 1\n",
        "\n",
        "  while i <= mid and j <= ub:\n",
        "    if arr[i] <= arr[j]:\n",
        "      temp.append(arr[i])\n",
        "      i += 1\n",
        "    else:\n",
        "      temp.append(arr[j])\n",
        "      j += 1\n",
        "\n",
        "  if i > mid:\n",
        "    while j <= ub:\n",
        "      temp.append(arr[j])\n",
        "      j += 1\n",
        "\n",
        "  else :\n",
        "    while i <= mid:\n",
        "      temp.append(arr[i])\n",
        "      i +=1\n",
        "\n",
        "  for i in range(lb,ub+1):\n",
        "    arr[i] = temp[i - lb]\n",
        "\n",
        "\n",
        "arr = [ 252,1,5,6,4,8,6,2,3]\n",
        "a = msort(arr,0,len(arr)-1)\n",
        "print(a)\n",
        "\n"
      ],
      "metadata": {
        "colab": {
          "base_uri": "https://localhost:8080/"
        },
        "id": "ZqeKAR_Ejrc_",
        "outputId": "9a3d19d0-50ef-4616-d658-b5e4509bcf31"
      },
      "execution_count": 8,
      "outputs": [
        {
          "output_type": "stream",
          "name": "stdout",
          "text": [
            "[1, 2, 3, 4, 5, 6, 6, 8, 252]\n"
          ]
        }
      ]
    },
    {
      "cell_type": "code",
      "source": [
        "\n",
        "def hsort(arr, n):\n",
        "  for i in range(n // 2 -1,-1,-1):\n",
        "    heapify(arr,n,i)\n",
        "\n",
        "  for i in range(n-1,0,-1):\n",
        "    arr[0],arr[i] = arr[i],arr[0]\n",
        "    heapify(arr,i,0)\n",
        "\n",
        "  return arr\n",
        "\n",
        "def heapify(arr, n, i):\n",
        "  largest = i\n",
        "  lchild = 2*i+1\n",
        "  rchild = 2*i+2\n",
        "\n",
        "  if lchild < n and arr[lchild] > arr[largest]:\n",
        "    largest = lchild\n",
        "\n",
        "  if rchild < n and arr[rchild] > arr[largest]:\n",
        "    largest = rchild\n",
        "\n",
        "  if largest != i:\n",
        "    arr[i],arr[largest] = arr[largest],arr[i]\n",
        "    heapify(arr,n,largest)\n",
        "\n",
        "\n",
        "arr = [ 252,1,5,6,4,8,6,2,3]\n",
        "a = hsort(arr,len(arr))\n",
        "print(a)"
      ],
      "metadata": {
        "colab": {
          "base_uri": "https://localhost:8080/"
        },
        "id": "Q0bsAoekku8M",
        "outputId": "3dbcce21-8be5-4e25-b606-3f6f87bcadcb"
      },
      "execution_count": 9,
      "outputs": [
        {
          "output_type": "stream",
          "name": "stdout",
          "text": [
            "[1, 2, 3, 4, 5, 6, 6, 8, 252]\n"
          ]
        }
      ]
    },
    {
      "cell_type": "code",
      "source": [
        "def radixsort(arr,n):\n",
        "  maxim = max(arr)\n",
        "  pos = 1\n",
        "  while maxim // pos > 0:\n",
        "    countingsort(arr,n,pos)\n",
        "    pos *= 10\n",
        "\n",
        "  return arr\n",
        "\n",
        "def countingsort(arr,n,pos):\n",
        "  count = [0] * 10\n",
        "  for i in range(0,n):\n",
        "    count[(arr[i] // pos ) % 10] += 1\n",
        "\n",
        "  for i in range(1,10):\n",
        "    count [i] += count[i-1]\n",
        "\n",
        "  b = [0] * n\n",
        "  for i in range(n-1,-1,-1):\n",
        "    index = arr[i] // pos % 10\n",
        "    count[index] -= 1\n",
        "    b[count[index]] = arr[i]\n",
        "\n",
        "  for i in range(n):\n",
        "    arr[i] = b[i]\n",
        "\n",
        "  return arr\n",
        "\n",
        "\n",
        "arr = [ 252,1,5,6,4,8,6,2,3]\n",
        "a = radixsort(arr,len(arr))\n",
        "print(a)"
      ],
      "metadata": {
        "colab": {
          "base_uri": "https://localhost:8080/"
        },
        "id": "WSxmBzePnJwh",
        "outputId": "a34b8a5a-1d1c-4341-fc96-c8391e876ae8"
      },
      "execution_count": 10,
      "outputs": [
        {
          "output_type": "stream",
          "name": "stdout",
          "text": [
            "[1, 2, 3, 4, 5, 6, 6, 8, 252]\n"
          ]
        }
      ]
    },
    {
      "cell_type": "code",
      "source": [
        "def bucket_sort(arr):\n",
        "    # Get the length of the array\n",
        "    n = len(arr)\n",
        "\n",
        "    # Create empty buckets\n",
        "    buckets = [[] for _ in range(10)]\n",
        "\n",
        "    # Insert elements into their respective buckets\n",
        "    for num in arr:\n",
        "        # Normalize the number to decide which bucket it goes to\n",
        "        index = int(n * num)  # Multiply by n to scale into bucket range\n",
        "        buckets[index].append(num)\n",
        "\n",
        "    # Sort individual buckets\n",
        "    for i in range(n):\n",
        "        buckets[i].sort()\n",
        "\n",
        "    # Concatenate all buckets into a single list\n",
        "    sorted_arr = []\n",
        "    for bucket in buckets:\n",
        "        sorted_arr.extend(bucket)\n",
        "\n",
        "    return sorted_arr\n",
        "\n",
        "# Example usage\n",
        "arr = [0.78, 0.17, 0.39, 0.72, 0.94, 0.21, 0.12, 0.23, 0.68]\n",
        "# arr = [ 252,1,5,6,4,8,6,2,3]\n",
        "\n",
        "sorted_arr = bucket_sort(arr)\n",
        "print(sorted_arr)\n"
      ],
      "metadata": {
        "colab": {
          "base_uri": "https://localhost:8080/"
        },
        "id": "emjvSurgo3AP",
        "outputId": "ef02e80f-839f-4117-ea04-1d395e8f34e8"
      },
      "execution_count": 15,
      "outputs": [
        {
          "output_type": "stream",
          "name": "stdout",
          "text": [
            "[0.12, 0.17, 0.21, 0.23, 0.39, 0.68, 0.72, 0.78, 0.94]\n"
          ]
        }
      ]
    }
  ]
}